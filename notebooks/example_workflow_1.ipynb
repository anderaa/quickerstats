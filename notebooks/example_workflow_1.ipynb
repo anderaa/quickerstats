{
 "cells": [
  {
   "cell_type": "markdown",
   "metadata": {},
   "source": [
    "# Sample Workflow with quickerstats\n",
    "---\n",
    "Aaron Anderson <br>\n",
    "https://github.com/anderaa/quickerstats\n",
    "\n",
    "---\n",
    "\n",
    "In this example, we will demonstrate how to use the quickerstats package to search for and download data from the NASS Quick Stats database. Our goal will be to produce a map that shows intensity of corn production across US counties.\n",
    "\n",
    "### 1. Installation and setup\n",
    "\n",
    "Install the package from the current github repo, then load it."
   ]
  },
  {
   "cell_type": "code",
   "execution_count": 81,
   "metadata": {},
   "outputs": [
    {
     "name": "stderr",
     "output_type": "stream",
     "text": [
      "Loading required package: sp\n",
      "Checking rgeos availability: TRUE\n",
      "rgdal: version: 1.4-6, (SVN revision 841)\n",
      " Geospatial Data Abstraction Library extensions to R successfully loaded\n",
      " Loaded GDAL runtime: GDAL 2.4.2, released 2019/06/28\n",
      " Path to GDAL shared files: /Library/Frameworks/R.framework/Versions/3.6/Resources/library/rgdal/gdal\n",
      " GDAL binary built with GEOS: FALSE \n",
      " Loaded PROJ.4 runtime: Rel. 5.2.0, September 15th, 2018, [PJ_VERSION: 520]\n",
      " Path to PROJ.4 shared files: /Library/Frameworks/R.framework/Versions/3.6/Resources/library/rgdal/proj\n",
      " Linking to sp version: 1.3-1 \n"
     ]
    }
   ],
   "source": [
    "library(maps)\n",
    "library(maptools)\n",
    "library(rgdal)"
   ]
  },
  {
   "cell_type": "code",
   "execution_count": 1,
   "metadata": {},
   "outputs": [
    {
     "name": "stderr",
     "output_type": "stream",
     "text": [
      "Downloading GitHub repo anderaa/quickerstats@development\n"
     ]
    },
    {
     "name": "stdout",
     "output_type": "stream",
     "text": [
      "\n",
      "\u001b[32m✔\u001b[39m  \u001b[38;5;247mchecking for file ‘/private/var/folders/xb/3_n3p00j4_x83n2s7tpn95gm0000gn/T/RtmpLDr8Gc/remotes535b77353ede/anderaa-quickerstats-2d5de25/DESCRIPTION’\u001b[39m\u001b[36m\u001b[36m (436ms)\u001b[36m\u001b[39m\n",
      "\u001b[38;5;247m─\u001b[39m\u001b[38;5;247m  \u001b[39m\u001b[38;5;247mpreparing ‘quickerstats’:\u001b[39m\u001b[36m\u001b[39m\n",
      "\u001b[32m✔\u001b[39m  \u001b[38;5;247mchecking DESCRIPTION meta-information\u001b[39m\u001b[36m\u001b[39m\n",
      "\u001b[38;5;247m─\u001b[39m\u001b[38;5;247m  \u001b[39m\u001b[38;5;247minstalling the package to build vignettes\u001b[39m\u001b[36m\u001b[39m\n",
      "\u001b[32m✔\u001b[39m  \u001b[38;5;247mcreating vignettes\u001b[39m\u001b[36m\u001b[36m (2m 15.9s)\u001b[36m\u001b[39m\n",
      "\u001b[38;5;247m─\u001b[39m\u001b[38;5;247m  \u001b[39m\u001b[38;5;247mchecking for LF line-endings in source and make files and shell scripts\u001b[39m\u001b[36m\u001b[39m\n",
      "\u001b[38;5;247m─\u001b[39m\u001b[38;5;247m  \u001b[39m\u001b[38;5;247mchecking for empty or unneeded directories\u001b[39m\u001b[36m\u001b[39m\n",
      "\u001b[38;5;247m─\u001b[39m\u001b[38;5;247m  \u001b[39m\u001b[38;5;247mbuilding ‘quickerstats_0.0.0.9003.tar.gz’\u001b[39m\u001b[36m\u001b[39m\n",
      "   \n",
      "\r"
     ]
    }
   ],
   "source": [
    "devtools::install_github('anderaa/quickerstats', force=TRUE, build_vignettes=TRUE, ref='development')\n",
    "library('quickerstats')"
   ]
  },
  {
   "cell_type": "markdown",
   "metadata": {},
   "source": [
    "Now setup your NASS key. Go to https://quickstats.nass.usda.gov/api and get your key. I recommend storing your key as an environmental variable. In R studio, type `file.edit(\"~/.Renviron\")` and add `NASS_KEY='your_nass_key'` to the file. Alternatively, open a terminal (mac/linux) and type `nano ~/.Renviron` and add the same line. Save it with ctl+o then press enter. Then exit with ctl+x.\n",
    "\n",
    "Now load the key into the current R session:"
   ]
  },
  {
   "cell_type": "code",
   "execution_count": 2,
   "metadata": {},
   "outputs": [],
   "source": [
    "key = Sys.getenv('NASS_KEY')"
   ]
  },
  {
   "cell_type": "markdown",
   "metadata": {},
   "source": [
    "### 2. Searching for data \n",
    "We need to find data series that indicate the amounts of corn harvested. To do this, we use the search function."
   ]
  },
  {
   "cell_type": "code",
   "execution_count": 59,
   "metadata": {},
   "outputs": [
    {
     "name": "stdout",
     "output_type": "stream",
     "text": [
      " [1] \"CORN - ACRES HARVESTED\"                                                          \n",
      " [2] \"CORN - OPERATIONS WITH AREA HARVESTED\"                                           \n",
      " [3] \"CORN, FORAGE - ACRES HARVESTED\"                                                  \n",
      " [4] \"CORN, GRAIN - ACRES HARVESTED\"                                                   \n",
      " [5] \"CORN, GRAIN - OPERATIONS WITH AREA HARVESTED\"                                    \n",
      " [6] \"CORN, GRAIN - PROGRESS, 5 YEAR AVG, MEASURED IN PCT HARVESTED\"                   \n",
      " [7] \"CORN, GRAIN - PROGRESS, MEASURED IN PCT HARVESTED\"                               \n",
      " [8] \"CORN, GRAIN - PROGRESS, PREVIOUS YEAR, MEASURED IN PCT HARVESTED\"                \n",
      " [9] \"CORN, GRAIN, IRRIGATED - ACRES HARVESTED\"                                        \n",
      "[10] \"CORN, GRAIN, IRRIGATED - AREA HARVESTED, MEASURED IN PCT BY METHOD\"              \n",
      "[11] \"CORN, GRAIN, IRRIGATED - AREA HARVESTED, MEASURED IN PCT OF OPERATIONS BY METHOD\"\n",
      "[12] \"CORN, GRAIN, IRRIGATED - OPERATIONS WITH AREA HARVESTED\"                         \n",
      "[13] \"CORN, GRAIN, IRRIGATED, ENTIRE CROP - ACRES HARVESTED\"                           \n",
      "[14] \"CORN, GRAIN, IRRIGATED, ENTIRE CROP - OPERATIONS WITH AREA HARVESTED\"            \n",
      "[15] \"CORN, GRAIN, IRRIGATED, NONE OF CROP - ACRES HARVESTED\"                          \n",
      "[16] \"CORN, GRAIN, IRRIGATED, NONE OF CROP - OPERATIONS WITH AREA HARVESTED\"           \n",
      "[17] \"CORN, GRAIN, IRRIGATED, PART OF CROP - OPERATIONS WITH AREA HARVESTED\"           \n",
      "[18] \"CORN, GRAIN, IRRIGATED, PART OF CROP, IRRIGATED PORTION - ACRES HARVESTED\"       \n",
      "[19] \"CORN, GRAIN, IRRIGATED, PART OF CROP, NON-IRRIGATED PORTION - ACRES HARVESTED\"   \n",
      "[20] \"CORN, GRAIN, NON-IRRIGATED - ACRES HARVESTED\"                                    \n",
      "[21] \"CORN, GRAIN, NON-IRRIGATED - OPERATIONS WITH AREA HARVESTED\"                     \n",
      "[22] \"CORN, GRAIN, ORGANIC - ACRES HARVESTED\"                                          \n",
      "[23] \"CORN, GRAIN, ORGANIC - OPERATIONS WITH AREA HARVESTED\"                           \n",
      "[24] \"CORN, TRADITIONAL OR INDIAN - ACRES HARVESTED\"                                   \n",
      "[25] \"CORN, TRADITIONAL OR INDIAN - OPERATIONS WITH AREA HARVESTED\"                    \n",
      "[26] \"CORN, TRADITIONAL OR INDIAN, IRRIGATED - ACRES HARVESTED\"                        \n",
      "[27] \"CORN, TRADITIONAL OR INDIAN, IRRIGATED - OPERATIONS WITH AREA HARVESTED\"         \n",
      "[28] \"POPCORN, IRRIGATED, SHELLED - ACRES HARVESTED\"                                   \n",
      "[29] \"POPCORN, IRRIGATED, SHELLED - OPERATIONS WITH AREA HARVESTED\"                    \n",
      "[30] \"POPCORN, ORGANIC, SHELLED - ACRES HARVESTED\"                                     \n",
      "[31] \"POPCORN, ORGANIC, SHELLED - OPERATIONS WITH AREA HARVESTED\"                      \n",
      "[32] \"POPCORN, SHELLED - ACRES HARVESTED\"                                              \n",
      "[33] \"POPCORN, SHELLED - OPERATIONS WITH AREA HARVESTED\"                               \n"
     ]
    }
   ],
   "source": [
    "r <- search_data_items(key, search_terms=c('corn', 'harvested'), exclude=c('sweet', 'silage'))\n",
    "print(r)"
   ]
  },
  {
   "cell_type": "markdown",
   "metadata": {},
   "source": [
    "It looks like the first result is the one we want."
   ]
  },
  {
   "cell_type": "code",
   "execution_count": 60,
   "metadata": {},
   "outputs": [
    {
     "name": "stdout",
     "output_type": "stream",
     "text": [
      "[1] \"CORN - ACRES HARVESTED\"\n"
     ]
    }
   ],
   "source": [
    "data_item <- r[1]\n",
    "print(data_item)"
   ]
  },
  {
   "cell_type": "markdown",
   "metadata": {},
   "source": [
    "Now, let's get the options associated with this data item. We need make sure we can get it for a recent year and for individual counties."
   ]
  },
  {
   "cell_type": "code",
   "execution_count": 61,
   "metadata": {},
   "outputs": [
    {
     "name": "stderr",
     "output_type": "stream",
     "text": [
      "Retrieving options...this may take a minute...\n",
      "The data item is not available at the state or county level.\n",
      "             There are no options.\n"
     ]
    },
    {
     "data": {
      "text/plain": [
       "NULL"
      ]
     },
     "metadata": {},
     "output_type": "display_data"
    }
   ],
   "source": [
    "get_options(key, data_item)"
   ]
  },
  {
   "cell_type": "markdown",
   "metadata": {},
   "source": [
    "Oops, that data item doesn't have any options associated with it, so let's try a different one."
   ]
  },
  {
   "cell_type": "code",
   "execution_count": 62,
   "metadata": {},
   "outputs": [
    {
     "name": "stdout",
     "output_type": "stream",
     "text": [
      "[1] \"CORN, GRAIN - ACRES HARVESTED\"\n"
     ]
    }
   ],
   "source": [
    "data_item <- r[4]\n",
    "print(data_item)"
   ]
  },
  {
   "cell_type": "code",
   "execution_count": 63,
   "metadata": {},
   "outputs": [
    {
     "name": "stderr",
     "output_type": "stream",
     "text": [
      "Retrieving options...this may take a minute...\n"
     ]
    },
    {
     "data": {
      "text/html": [
       "<table>\n",
       "<caption>A tibble: 80 × 4</caption>\n",
       "<thead>\n",
       "\t<tr><th scope=col>source_desc</th><th scope=col>year</th><th scope=col>agg_level_desc</th><th scope=col>domain_desc</th></tr>\n",
       "\t<tr><th scope=col>&lt;chr&gt;</th><th scope=col>&lt;chr&gt;</th><th scope=col>&lt;chr&gt;</th><th scope=col>&lt;chr&gt;</th></tr>\n",
       "</thead>\n",
       "<tbody>\n",
       "\t<tr><td>CENSUS</td><td>1997</td><td>COUNTY</td><td>TOTAL                                     </td></tr>\n",
       "\t<tr><td>CENSUS</td><td>1997</td><td>STATE </td><td>AREA HARVESTED                            </td></tr>\n",
       "\t<tr><td>CENSUS</td><td>1997</td><td>STATE </td><td>TOTAL                                     </td></tr>\n",
       "\t<tr><td>CENSUS</td><td>2002</td><td>COUNTY</td><td>TOTAL                                     </td></tr>\n",
       "\t<tr><td>CENSUS</td><td>2002</td><td>STATE </td><td>AREA HARVESTED                            </td></tr>\n",
       "\t<tr><td>CENSUS</td><td>2002</td><td>STATE </td><td>TOTAL                                     </td></tr>\n",
       "\t<tr><td>CENSUS</td><td>2007</td><td>COUNTY</td><td>TOTAL                                     </td></tr>\n",
       "\t<tr><td>CENSUS</td><td>2007</td><td>STATE </td><td>AREA HARVESTED                            </td></tr>\n",
       "\t<tr><td>CENSUS</td><td>2007</td><td>STATE </td><td>TOTAL                                     </td></tr>\n",
       "\t<tr><td>CENSUS</td><td>2012</td><td>COUNTY</td><td>OPERATORS                                 </td></tr>\n",
       "\t<tr><td>CENSUS</td><td>2012</td><td>COUNTY</td><td>OPERATORS, PRINCIPAL                      </td></tr>\n",
       "\t<tr><td>CENSUS</td><td>2012</td><td>COUNTY</td><td>TOTAL                                     </td></tr>\n",
       "\t<tr><td>CENSUS</td><td>2012</td><td>STATE </td><td>AREA HARVESTED                            </td></tr>\n",
       "\t<tr><td>CENSUS</td><td>2012</td><td>STATE </td><td>AREA OPERATED                             </td></tr>\n",
       "\t<tr><td>CENSUS</td><td>2012</td><td>STATE </td><td>ECONOMIC CLASS                            </td></tr>\n",
       "\t<tr><td>CENSUS</td><td>2012</td><td>STATE </td><td>FARM SALES                                </td></tr>\n",
       "\t<tr><td>CENSUS</td><td>2012</td><td>STATE </td><td>NAICS CLASSIFICATION                      </td></tr>\n",
       "\t<tr><td>CENSUS</td><td>2012</td><td>STATE </td><td>OPERATORS                                 </td></tr>\n",
       "\t<tr><td>CENSUS</td><td>2012</td><td>STATE </td><td>OPERATORS, PRINCIPAL                      </td></tr>\n",
       "\t<tr><td>CENSUS</td><td>2012</td><td>STATE </td><td>OPERATORS, PRINCIPAL, ON PRESENT OPERATION</td></tr>\n",
       "\t<tr><td>CENSUS</td><td>2012</td><td>STATE </td><td>ORGANIZATION                              </td></tr>\n",
       "\t<tr><td>CENSUS</td><td>2012</td><td>STATE </td><td>TENURE                                    </td></tr>\n",
       "\t<tr><td>CENSUS</td><td>2012</td><td>STATE </td><td>TOTAL                                     </td></tr>\n",
       "\t<tr><td>CENSUS</td><td>2012</td><td>STATE </td><td>TYPOLOGY                                  </td></tr>\n",
       "\t<tr><td>CENSUS</td><td>2017</td><td>COUNTY</td><td>PRODUCERS                                 </td></tr>\n",
       "\t<tr><td>CENSUS</td><td>2017</td><td>COUNTY</td><td>TOTAL                                     </td></tr>\n",
       "\t<tr><td>CENSUS</td><td>2017</td><td>STATE </td><td>AREA HARVESTED                            </td></tr>\n",
       "\t<tr><td>CENSUS</td><td>2017</td><td>STATE </td><td>AREA OPERATED                             </td></tr>\n",
       "\t<tr><td>CENSUS</td><td>2017</td><td>STATE </td><td>ECONOMIC CLASS                            </td></tr>\n",
       "\t<tr><td>CENSUS</td><td>2017</td><td>STATE </td><td>FARM SALES                                </td></tr>\n",
       "\t<tr><td>⋮</td><td>⋮</td><td>⋮</td><td>⋮</td></tr>\n",
       "\t<tr><td>SURVEY</td><td>2004</td><td>STATE </td><td>TOTAL</td></tr>\n",
       "\t<tr><td>SURVEY</td><td>2005</td><td>COUNTY</td><td>TOTAL</td></tr>\n",
       "\t<tr><td>SURVEY</td><td>2005</td><td>STATE </td><td>TOTAL</td></tr>\n",
       "\t<tr><td>SURVEY</td><td>2006</td><td>COUNTY</td><td>TOTAL</td></tr>\n",
       "\t<tr><td>SURVEY</td><td>2006</td><td>STATE </td><td>TOTAL</td></tr>\n",
       "\t<tr><td>SURVEY</td><td>2007</td><td>COUNTY</td><td>TOTAL</td></tr>\n",
       "\t<tr><td>SURVEY</td><td>2007</td><td>STATE </td><td>TOTAL</td></tr>\n",
       "\t<tr><td>SURVEY</td><td>2008</td><td>COUNTY</td><td>TOTAL</td></tr>\n",
       "\t<tr><td>SURVEY</td><td>2008</td><td>STATE </td><td>TOTAL</td></tr>\n",
       "\t<tr><td>SURVEY</td><td>2009</td><td>COUNTY</td><td>TOTAL</td></tr>\n",
       "\t<tr><td>SURVEY</td><td>2009</td><td>STATE </td><td>TOTAL</td></tr>\n",
       "\t<tr><td>SURVEY</td><td>2010</td><td>COUNTY</td><td>TOTAL</td></tr>\n",
       "\t<tr><td>SURVEY</td><td>2010</td><td>STATE </td><td>TOTAL</td></tr>\n",
       "\t<tr><td>SURVEY</td><td>2011</td><td>COUNTY</td><td>TOTAL</td></tr>\n",
       "\t<tr><td>SURVEY</td><td>2011</td><td>STATE </td><td>TOTAL</td></tr>\n",
       "\t<tr><td>SURVEY</td><td>2012</td><td>COUNTY</td><td>TOTAL</td></tr>\n",
       "\t<tr><td>SURVEY</td><td>2012</td><td>STATE </td><td>TOTAL</td></tr>\n",
       "\t<tr><td>SURVEY</td><td>2013</td><td>COUNTY</td><td>TOTAL</td></tr>\n",
       "\t<tr><td>SURVEY</td><td>2013</td><td>STATE </td><td>TOTAL</td></tr>\n",
       "\t<tr><td>SURVEY</td><td>2014</td><td>COUNTY</td><td>TOTAL</td></tr>\n",
       "\t<tr><td>SURVEY</td><td>2014</td><td>STATE </td><td>TOTAL</td></tr>\n",
       "\t<tr><td>SURVEY</td><td>2015</td><td>COUNTY</td><td>TOTAL</td></tr>\n",
       "\t<tr><td>SURVEY</td><td>2015</td><td>STATE </td><td>TOTAL</td></tr>\n",
       "\t<tr><td>SURVEY</td><td>2016</td><td>COUNTY</td><td>TOTAL</td></tr>\n",
       "\t<tr><td>SURVEY</td><td>2016</td><td>STATE </td><td>TOTAL</td></tr>\n",
       "\t<tr><td>SURVEY</td><td>2017</td><td>COUNTY</td><td>TOTAL</td></tr>\n",
       "\t<tr><td>SURVEY</td><td>2017</td><td>STATE </td><td>TOTAL</td></tr>\n",
       "\t<tr><td>SURVEY</td><td>2018</td><td>COUNTY</td><td>TOTAL</td></tr>\n",
       "\t<tr><td>SURVEY</td><td>2018</td><td>STATE </td><td>TOTAL</td></tr>\n",
       "\t<tr><td>SURVEY</td><td>2019</td><td>STATE </td><td>TOTAL</td></tr>\n",
       "</tbody>\n",
       "</table>\n"
      ],
      "text/latex": [
       "A tibble: 80 × 4\n",
       "\\begin{tabular}{r|llll}\n",
       " source\\_desc & year & agg\\_level\\_desc & domain\\_desc\\\\\n",
       " <chr> & <chr> & <chr> & <chr>\\\\\n",
       "\\hline\n",
       "\t CENSUS & 1997 & COUNTY & TOTAL                                     \\\\\n",
       "\t CENSUS & 1997 & STATE  & AREA HARVESTED                            \\\\\n",
       "\t CENSUS & 1997 & STATE  & TOTAL                                     \\\\\n",
       "\t CENSUS & 2002 & COUNTY & TOTAL                                     \\\\\n",
       "\t CENSUS & 2002 & STATE  & AREA HARVESTED                            \\\\\n",
       "\t CENSUS & 2002 & STATE  & TOTAL                                     \\\\\n",
       "\t CENSUS & 2007 & COUNTY & TOTAL                                     \\\\\n",
       "\t CENSUS & 2007 & STATE  & AREA HARVESTED                            \\\\\n",
       "\t CENSUS & 2007 & STATE  & TOTAL                                     \\\\\n",
       "\t CENSUS & 2012 & COUNTY & OPERATORS                                 \\\\\n",
       "\t CENSUS & 2012 & COUNTY & OPERATORS, PRINCIPAL                      \\\\\n",
       "\t CENSUS & 2012 & COUNTY & TOTAL                                     \\\\\n",
       "\t CENSUS & 2012 & STATE  & AREA HARVESTED                            \\\\\n",
       "\t CENSUS & 2012 & STATE  & AREA OPERATED                             \\\\\n",
       "\t CENSUS & 2012 & STATE  & ECONOMIC CLASS                            \\\\\n",
       "\t CENSUS & 2012 & STATE  & FARM SALES                                \\\\\n",
       "\t CENSUS & 2012 & STATE  & NAICS CLASSIFICATION                      \\\\\n",
       "\t CENSUS & 2012 & STATE  & OPERATORS                                 \\\\\n",
       "\t CENSUS & 2012 & STATE  & OPERATORS, PRINCIPAL                      \\\\\n",
       "\t CENSUS & 2012 & STATE  & OPERATORS, PRINCIPAL, ON PRESENT OPERATION\\\\\n",
       "\t CENSUS & 2012 & STATE  & ORGANIZATION                              \\\\\n",
       "\t CENSUS & 2012 & STATE  & TENURE                                    \\\\\n",
       "\t CENSUS & 2012 & STATE  & TOTAL                                     \\\\\n",
       "\t CENSUS & 2012 & STATE  & TYPOLOGY                                  \\\\\n",
       "\t CENSUS & 2017 & COUNTY & PRODUCERS                                 \\\\\n",
       "\t CENSUS & 2017 & COUNTY & TOTAL                                     \\\\\n",
       "\t CENSUS & 2017 & STATE  & AREA HARVESTED                            \\\\\n",
       "\t CENSUS & 2017 & STATE  & AREA OPERATED                             \\\\\n",
       "\t CENSUS & 2017 & STATE  & ECONOMIC CLASS                            \\\\\n",
       "\t CENSUS & 2017 & STATE  & FARM SALES                                \\\\\n",
       "\t ⋮ & ⋮ & ⋮ & ⋮\\\\\n",
       "\t SURVEY & 2004 & STATE  & TOTAL\\\\\n",
       "\t SURVEY & 2005 & COUNTY & TOTAL\\\\\n",
       "\t SURVEY & 2005 & STATE  & TOTAL\\\\\n",
       "\t SURVEY & 2006 & COUNTY & TOTAL\\\\\n",
       "\t SURVEY & 2006 & STATE  & TOTAL\\\\\n",
       "\t SURVEY & 2007 & COUNTY & TOTAL\\\\\n",
       "\t SURVEY & 2007 & STATE  & TOTAL\\\\\n",
       "\t SURVEY & 2008 & COUNTY & TOTAL\\\\\n",
       "\t SURVEY & 2008 & STATE  & TOTAL\\\\\n",
       "\t SURVEY & 2009 & COUNTY & TOTAL\\\\\n",
       "\t SURVEY & 2009 & STATE  & TOTAL\\\\\n",
       "\t SURVEY & 2010 & COUNTY & TOTAL\\\\\n",
       "\t SURVEY & 2010 & STATE  & TOTAL\\\\\n",
       "\t SURVEY & 2011 & COUNTY & TOTAL\\\\\n",
       "\t SURVEY & 2011 & STATE  & TOTAL\\\\\n",
       "\t SURVEY & 2012 & COUNTY & TOTAL\\\\\n",
       "\t SURVEY & 2012 & STATE  & TOTAL\\\\\n",
       "\t SURVEY & 2013 & COUNTY & TOTAL\\\\\n",
       "\t SURVEY & 2013 & STATE  & TOTAL\\\\\n",
       "\t SURVEY & 2014 & COUNTY & TOTAL\\\\\n",
       "\t SURVEY & 2014 & STATE  & TOTAL\\\\\n",
       "\t SURVEY & 2015 & COUNTY & TOTAL\\\\\n",
       "\t SURVEY & 2015 & STATE  & TOTAL\\\\\n",
       "\t SURVEY & 2016 & COUNTY & TOTAL\\\\\n",
       "\t SURVEY & 2016 & STATE  & TOTAL\\\\\n",
       "\t SURVEY & 2017 & COUNTY & TOTAL\\\\\n",
       "\t SURVEY & 2017 & STATE  & TOTAL\\\\\n",
       "\t SURVEY & 2018 & COUNTY & TOTAL\\\\\n",
       "\t SURVEY & 2018 & STATE  & TOTAL\\\\\n",
       "\t SURVEY & 2019 & STATE  & TOTAL\\\\\n",
       "\\end{tabular}\n"
      ],
      "text/markdown": [
       "\n",
       "A tibble: 80 × 4\n",
       "\n",
       "| source_desc &lt;chr&gt; | year &lt;chr&gt; | agg_level_desc &lt;chr&gt; | domain_desc &lt;chr&gt; |\n",
       "|---|---|---|---|\n",
       "| CENSUS | 1997 | COUNTY | TOTAL                                      |\n",
       "| CENSUS | 1997 | STATE  | AREA HARVESTED                             |\n",
       "| CENSUS | 1997 | STATE  | TOTAL                                      |\n",
       "| CENSUS | 2002 | COUNTY | TOTAL                                      |\n",
       "| CENSUS | 2002 | STATE  | AREA HARVESTED                             |\n",
       "| CENSUS | 2002 | STATE  | TOTAL                                      |\n",
       "| CENSUS | 2007 | COUNTY | TOTAL                                      |\n",
       "| CENSUS | 2007 | STATE  | AREA HARVESTED                             |\n",
       "| CENSUS | 2007 | STATE  | TOTAL                                      |\n",
       "| CENSUS | 2012 | COUNTY | OPERATORS                                  |\n",
       "| CENSUS | 2012 | COUNTY | OPERATORS, PRINCIPAL                       |\n",
       "| CENSUS | 2012 | COUNTY | TOTAL                                      |\n",
       "| CENSUS | 2012 | STATE  | AREA HARVESTED                             |\n",
       "| CENSUS | 2012 | STATE  | AREA OPERATED                              |\n",
       "| CENSUS | 2012 | STATE  | ECONOMIC CLASS                             |\n",
       "| CENSUS | 2012 | STATE  | FARM SALES                                 |\n",
       "| CENSUS | 2012 | STATE  | NAICS CLASSIFICATION                       |\n",
       "| CENSUS | 2012 | STATE  | OPERATORS                                  |\n",
       "| CENSUS | 2012 | STATE  | OPERATORS, PRINCIPAL                       |\n",
       "| CENSUS | 2012 | STATE  | OPERATORS, PRINCIPAL, ON PRESENT OPERATION |\n",
       "| CENSUS | 2012 | STATE  | ORGANIZATION                               |\n",
       "| CENSUS | 2012 | STATE  | TENURE                                     |\n",
       "| CENSUS | 2012 | STATE  | TOTAL                                      |\n",
       "| CENSUS | 2012 | STATE  | TYPOLOGY                                   |\n",
       "| CENSUS | 2017 | COUNTY | PRODUCERS                                  |\n",
       "| CENSUS | 2017 | COUNTY | TOTAL                                      |\n",
       "| CENSUS | 2017 | STATE  | AREA HARVESTED                             |\n",
       "| CENSUS | 2017 | STATE  | AREA OPERATED                              |\n",
       "| CENSUS | 2017 | STATE  | ECONOMIC CLASS                             |\n",
       "| CENSUS | 2017 | STATE  | FARM SALES                                 |\n",
       "| ⋮ | ⋮ | ⋮ | ⋮ |\n",
       "| SURVEY | 2004 | STATE  | TOTAL |\n",
       "| SURVEY | 2005 | COUNTY | TOTAL |\n",
       "| SURVEY | 2005 | STATE  | TOTAL |\n",
       "| SURVEY | 2006 | COUNTY | TOTAL |\n",
       "| SURVEY | 2006 | STATE  | TOTAL |\n",
       "| SURVEY | 2007 | COUNTY | TOTAL |\n",
       "| SURVEY | 2007 | STATE  | TOTAL |\n",
       "| SURVEY | 2008 | COUNTY | TOTAL |\n",
       "| SURVEY | 2008 | STATE  | TOTAL |\n",
       "| SURVEY | 2009 | COUNTY | TOTAL |\n",
       "| SURVEY | 2009 | STATE  | TOTAL |\n",
       "| SURVEY | 2010 | COUNTY | TOTAL |\n",
       "| SURVEY | 2010 | STATE  | TOTAL |\n",
       "| SURVEY | 2011 | COUNTY | TOTAL |\n",
       "| SURVEY | 2011 | STATE  | TOTAL |\n",
       "| SURVEY | 2012 | COUNTY | TOTAL |\n",
       "| SURVEY | 2012 | STATE  | TOTAL |\n",
       "| SURVEY | 2013 | COUNTY | TOTAL |\n",
       "| SURVEY | 2013 | STATE  | TOTAL |\n",
       "| SURVEY | 2014 | COUNTY | TOTAL |\n",
       "| SURVEY | 2014 | STATE  | TOTAL |\n",
       "| SURVEY | 2015 | COUNTY | TOTAL |\n",
       "| SURVEY | 2015 | STATE  | TOTAL |\n",
       "| SURVEY | 2016 | COUNTY | TOTAL |\n",
       "| SURVEY | 2016 | STATE  | TOTAL |\n",
       "| SURVEY | 2017 | COUNTY | TOTAL |\n",
       "| SURVEY | 2017 | STATE  | TOTAL |\n",
       "| SURVEY | 2018 | COUNTY | TOTAL |\n",
       "| SURVEY | 2018 | STATE  | TOTAL |\n",
       "| SURVEY | 2019 | STATE  | TOTAL |\n",
       "\n"
      ],
      "text/plain": [
       "   source_desc year agg_level_desc domain_desc                               \n",
       "1  CENSUS      1997 COUNTY         TOTAL                                     \n",
       "2  CENSUS      1997 STATE          AREA HARVESTED                            \n",
       "3  CENSUS      1997 STATE          TOTAL                                     \n",
       "4  CENSUS      2002 COUNTY         TOTAL                                     \n",
       "5  CENSUS      2002 STATE          AREA HARVESTED                            \n",
       "6  CENSUS      2002 STATE          TOTAL                                     \n",
       "7  CENSUS      2007 COUNTY         TOTAL                                     \n",
       "8  CENSUS      2007 STATE          AREA HARVESTED                            \n",
       "9  CENSUS      2007 STATE          TOTAL                                     \n",
       "10 CENSUS      2012 COUNTY         OPERATORS                                 \n",
       "11 CENSUS      2012 COUNTY         OPERATORS, PRINCIPAL                      \n",
       "12 CENSUS      2012 COUNTY         TOTAL                                     \n",
       "13 CENSUS      2012 STATE          AREA HARVESTED                            \n",
       "14 CENSUS      2012 STATE          AREA OPERATED                             \n",
       "15 CENSUS      2012 STATE          ECONOMIC CLASS                            \n",
       "16 CENSUS      2012 STATE          FARM SALES                                \n",
       "17 CENSUS      2012 STATE          NAICS CLASSIFICATION                      \n",
       "18 CENSUS      2012 STATE          OPERATORS                                 \n",
       "19 CENSUS      2012 STATE          OPERATORS, PRINCIPAL                      \n",
       "20 CENSUS      2012 STATE          OPERATORS, PRINCIPAL, ON PRESENT OPERATION\n",
       "21 CENSUS      2012 STATE          ORGANIZATION                              \n",
       "22 CENSUS      2012 STATE          TENURE                                    \n",
       "23 CENSUS      2012 STATE          TOTAL                                     \n",
       "24 CENSUS      2012 STATE          TYPOLOGY                                  \n",
       "25 CENSUS      2017 COUNTY         PRODUCERS                                 \n",
       "26 CENSUS      2017 COUNTY         TOTAL                                     \n",
       "27 CENSUS      2017 STATE          AREA HARVESTED                            \n",
       "28 CENSUS      2017 STATE          AREA OPERATED                             \n",
       "29 CENSUS      2017 STATE          ECONOMIC CLASS                            \n",
       "30 CENSUS      2017 STATE          FARM SALES                                \n",
       "⋮  ⋮           ⋮    ⋮              ⋮                                         \n",
       "51 SURVEY      2004 STATE          TOTAL                                     \n",
       "52 SURVEY      2005 COUNTY         TOTAL                                     \n",
       "53 SURVEY      2005 STATE          TOTAL                                     \n",
       "54 SURVEY      2006 COUNTY         TOTAL                                     \n",
       "55 SURVEY      2006 STATE          TOTAL                                     \n",
       "56 SURVEY      2007 COUNTY         TOTAL                                     \n",
       "57 SURVEY      2007 STATE          TOTAL                                     \n",
       "58 SURVEY      2008 COUNTY         TOTAL                                     \n",
       "59 SURVEY      2008 STATE          TOTAL                                     \n",
       "60 SURVEY      2009 COUNTY         TOTAL                                     \n",
       "61 SURVEY      2009 STATE          TOTAL                                     \n",
       "62 SURVEY      2010 COUNTY         TOTAL                                     \n",
       "63 SURVEY      2010 STATE          TOTAL                                     \n",
       "64 SURVEY      2011 COUNTY         TOTAL                                     \n",
       "65 SURVEY      2011 STATE          TOTAL                                     \n",
       "66 SURVEY      2012 COUNTY         TOTAL                                     \n",
       "67 SURVEY      2012 STATE          TOTAL                                     \n",
       "68 SURVEY      2013 COUNTY         TOTAL                                     \n",
       "69 SURVEY      2013 STATE          TOTAL                                     \n",
       "70 SURVEY      2014 COUNTY         TOTAL                                     \n",
       "71 SURVEY      2014 STATE          TOTAL                                     \n",
       "72 SURVEY      2015 COUNTY         TOTAL                                     \n",
       "73 SURVEY      2015 STATE          TOTAL                                     \n",
       "74 SURVEY      2016 COUNTY         TOTAL                                     \n",
       "75 SURVEY      2016 STATE          TOTAL                                     \n",
       "76 SURVEY      2017 COUNTY         TOTAL                                     \n",
       "77 SURVEY      2017 STATE          TOTAL                                     \n",
       "78 SURVEY      2018 COUNTY         TOTAL                                     \n",
       "79 SURVEY      2018 STATE          TOTAL                                     \n",
       "80 SURVEY      2019 STATE          TOTAL                                     "
      ]
     },
     "metadata": {},
     "output_type": "display_data"
    }
   ],
   "source": [
    "get_options(key, data_item)"
   ]
  },
  {
   "cell_type": "markdown",
   "metadata": {},
   "source": [
    "We see that census data is available at the county-level for 2017. Let's pull that data."
   ]
  },
  {
   "cell_type": "code",
   "execution_count": 64,
   "metadata": {},
   "outputs": [
    {
     "name": "stderr",
     "output_type": "stream",
     "text": [
      "Parsed with column specification:\n",
      "cols(\n",
      "  .default = col_character(),\n",
      "  asd_code = \u001b[32mcol_double()\u001b[39m,\n",
      "  region_desc = \u001b[33mcol_logical()\u001b[39m,\n",
      "  zip_5 = \u001b[33mcol_logical()\u001b[39m,\n",
      "  watershed_desc = \u001b[33mcol_logical()\u001b[39m,\n",
      "  congr_district_code = \u001b[33mcol_logical()\u001b[39m,\n",
      "  country_code = \u001b[32mcol_double()\u001b[39m,\n",
      "  year = \u001b[32mcol_double()\u001b[39m,\n",
      "  week_ending = \u001b[33mcol_logical()\u001b[39m,\n",
      "  load_time = \u001b[34mcol_datetime(format = \"\")\u001b[39m\n",
      ")\n",
      "See spec(...) for full column specifications.\n"
     ]
    }
   ],
   "source": [
    "df_harvested <- get_county_data(key=key, \n",
    "                                year=2017, \n",
    "                                data_item=data_item,\n",
    "                                source='CENSUS',\n",
    "                                domain='TOTAL',\n",
    "                                fips='all')"
   ]
  },
  {
   "cell_type": "code",
   "execution_count": 66,
   "metadata": {},
   "outputs": [
    {
     "data": {
      "text/html": [
       "<ol class=list-inline>\n",
       "\t<li>2643</li>\n",
       "\t<li>39</li>\n",
       "</ol>\n"
      ],
      "text/latex": [
       "\\begin{enumerate*}\n",
       "\\item 2643\n",
       "\\item 39\n",
       "\\end{enumerate*}\n"
      ],
      "text/markdown": [
       "1. 2643\n",
       "2. 39\n",
       "\n",
       "\n"
      ],
      "text/plain": [
       "[1] 2643   39"
      ]
     },
     "metadata": {},
     "output_type": "display_data"
    },
    {
     "data": {
      "text/html": [
       "<table>\n",
       "<caption>A tibble: 6 × 39</caption>\n",
       "<thead>\n",
       "\t<tr><th scope=col>source_desc</th><th scope=col>sector_desc</th><th scope=col>group_desc</th><th scope=col>commodity_desc</th><th scope=col>class_desc</th><th scope=col>prodn_practice_desc</th><th scope=col>util_practice_desc</th><th scope=col>statisticcat_desc</th><th scope=col>unit_desc</th><th scope=col>short_desc</th><th scope=col>⋯</th><th scope=col>location_desc</th><th scope=col>year</th><th scope=col>freq_desc</th><th scope=col>begin_code</th><th scope=col>end_code</th><th scope=col>reference_period_desc</th><th scope=col>week_ending</th><th scope=col>load_time</th><th scope=col>Value</th><th scope=col>CV (%)</th></tr>\n",
       "\t<tr><th scope=col>&lt;chr&gt;</th><th scope=col>&lt;chr&gt;</th><th scope=col>&lt;chr&gt;</th><th scope=col>&lt;chr&gt;</th><th scope=col>&lt;chr&gt;</th><th scope=col>&lt;chr&gt;</th><th scope=col>&lt;chr&gt;</th><th scope=col>&lt;chr&gt;</th><th scope=col>&lt;chr&gt;</th><th scope=col>&lt;chr&gt;</th><th scope=col>⋯</th><th scope=col>&lt;chr&gt;</th><th scope=col>&lt;dbl&gt;</th><th scope=col>&lt;chr&gt;</th><th scope=col>&lt;chr&gt;</th><th scope=col>&lt;chr&gt;</th><th scope=col>&lt;chr&gt;</th><th scope=col>&lt;lgl&gt;</th><th scope=col>&lt;dttm&gt;</th><th scope=col>&lt;chr&gt;</th><th scope=col>&lt;chr&gt;</th></tr>\n",
       "</thead>\n",
       "<tbody>\n",
       "\t<tr><td>CENSUS</td><td>CROPS</td><td>FIELD CROPS</td><td>CORN</td><td>ALL CLASSES</td><td>ALL PRODUCTION PRACTICES</td><td>GRAIN</td><td>AREA HARVESTED</td><td>ACRES</td><td>CORN, GRAIN - ACRES HARVESTED</td><td>⋯</td><td>ALABAMA, NORTHERN VALLEY, COLBERT   </td><td>2017</td><td>ANNUAL</td><td>00</td><td>00</td><td>YEAR</td><td>NA</td><td>2018-02-01</td><td>22,148</td><td>25.7</td></tr>\n",
       "\t<tr><td>CENSUS</td><td>CROPS</td><td>FIELD CROPS</td><td>CORN</td><td>ALL CLASSES</td><td>ALL PRODUCTION PRACTICES</td><td>GRAIN</td><td>AREA HARVESTED</td><td>ACRES</td><td>CORN, GRAIN - ACRES HARVESTED</td><td>⋯</td><td>ALABAMA, NORTHERN VALLEY, FRANKLIN  </td><td>2017</td><td>ANNUAL</td><td>00</td><td>00</td><td>YEAR</td><td>NA</td><td>2018-02-01</td><td>1,101 </td><td>25.7</td></tr>\n",
       "\t<tr><td>CENSUS</td><td>CROPS</td><td>FIELD CROPS</td><td>CORN</td><td>ALL CLASSES</td><td>ALL PRODUCTION PRACTICES</td><td>GRAIN</td><td>AREA HARVESTED</td><td>ACRES</td><td>CORN, GRAIN - ACRES HARVESTED</td><td>⋯</td><td>ALABAMA, NORTHERN VALLEY, LAUDERDALE</td><td>2017</td><td>ANNUAL</td><td>00</td><td>00</td><td>YEAR</td><td>NA</td><td>2018-02-01</td><td>15,885</td><td>25.7</td></tr>\n",
       "\t<tr><td>CENSUS</td><td>CROPS</td><td>FIELD CROPS</td><td>CORN</td><td>ALL CLASSES</td><td>ALL PRODUCTION PRACTICES</td><td>GRAIN</td><td>AREA HARVESTED</td><td>ACRES</td><td>CORN, GRAIN - ACRES HARVESTED</td><td>⋯</td><td>ALABAMA, NORTHERN VALLEY, LAWRENCE  </td><td>2017</td><td>ANNUAL</td><td>00</td><td>00</td><td>YEAR</td><td>NA</td><td>2018-02-01</td><td>22,925</td><td>25.7</td></tr>\n",
       "\t<tr><td>CENSUS</td><td>CROPS</td><td>FIELD CROPS</td><td>CORN</td><td>ALL CLASSES</td><td>ALL PRODUCTION PRACTICES</td><td>GRAIN</td><td>AREA HARVESTED</td><td>ACRES</td><td>CORN, GRAIN - ACRES HARVESTED</td><td>⋯</td><td>ALABAMA, NORTHERN VALLEY, LIMESTONE </td><td>2017</td><td>ANNUAL</td><td>00</td><td>00</td><td>YEAR</td><td>NA</td><td>2018-02-01</td><td>16,886</td><td>25.7</td></tr>\n",
       "\t<tr><td>CENSUS</td><td>CROPS</td><td>FIELD CROPS</td><td>CORN</td><td>ALL CLASSES</td><td>ALL PRODUCTION PRACTICES</td><td>GRAIN</td><td>AREA HARVESTED</td><td>ACRES</td><td>CORN, GRAIN - ACRES HARVESTED</td><td>⋯</td><td>ALABAMA, NORTHERN VALLEY, MADISON   </td><td>2017</td><td>ANNUAL</td><td>00</td><td>00</td><td>YEAR</td><td>NA</td><td>2018-02-01</td><td>25,499</td><td>25.7</td></tr>\n",
       "</tbody>\n",
       "</table>\n"
      ],
      "text/latex": [
       "A tibble: 6 × 39\n",
       "\\begin{tabular}{r|lllllllllllllllllllllllllllllllllllllll}\n",
       " source\\_desc & sector\\_desc & group\\_desc & commodity\\_desc & class\\_desc & prodn\\_practice\\_desc & util\\_practice\\_desc & statisticcat\\_desc & unit\\_desc & short\\_desc & domain\\_desc & domaincat\\_desc & agg\\_level\\_desc & state\\_ansi & state\\_fips\\_code & state\\_alpha & state\\_name & asd\\_code & asd\\_desc & county\\_ansi & county\\_code & county\\_name & region\\_desc & zip\\_5 & watershed\\_code & watershed\\_desc & congr\\_district\\_code & country\\_code & country\\_name & location\\_desc & year & freq\\_desc & begin\\_code & end\\_code & reference\\_period\\_desc & week\\_ending & load\\_time & Value & CV (\\%)\\\\\n",
       " <chr> & <chr> & <chr> & <chr> & <chr> & <chr> & <chr> & <chr> & <chr> & <chr> & <chr> & <chr> & <chr> & <chr> & <chr> & <chr> & <chr> & <dbl> & <chr> & <chr> & <chr> & <chr> & <lgl> & <lgl> & <chr> & <lgl> & <lgl> & <dbl> & <chr> & <chr> & <dbl> & <chr> & <chr> & <chr> & <chr> & <lgl> & <dttm> & <chr> & <chr>\\\\\n",
       "\\hline\n",
       "\t CENSUS & CROPS & FIELD CROPS & CORN & ALL CLASSES & ALL PRODUCTION PRACTICES & GRAIN & AREA HARVESTED & ACRES & CORN, GRAIN - ACRES HARVESTED & TOTAL & NOT SPECIFIED & COUNTY & 01 & 01 & AL & ALABAMA & 10 & NORTHERN VALLEY & 033 & 033 & COLBERT    & NA & NA & 00000000 & NA & NA & 9000 & UNITED STATES & ALABAMA, NORTHERN VALLEY, COLBERT    & 2017 & ANNUAL & 00 & 00 & YEAR & NA & 2018-02-01 & 22,148 & 25.7\\\\\n",
       "\t CENSUS & CROPS & FIELD CROPS & CORN & ALL CLASSES & ALL PRODUCTION PRACTICES & GRAIN & AREA HARVESTED & ACRES & CORN, GRAIN - ACRES HARVESTED & TOTAL & NOT SPECIFIED & COUNTY & 01 & 01 & AL & ALABAMA & 10 & NORTHERN VALLEY & 059 & 059 & FRANKLIN   & NA & NA & 00000000 & NA & NA & 9000 & UNITED STATES & ALABAMA, NORTHERN VALLEY, FRANKLIN   & 2017 & ANNUAL & 00 & 00 & YEAR & NA & 2018-02-01 & 1,101  & 25.7\\\\\n",
       "\t CENSUS & CROPS & FIELD CROPS & CORN & ALL CLASSES & ALL PRODUCTION PRACTICES & GRAIN & AREA HARVESTED & ACRES & CORN, GRAIN - ACRES HARVESTED & TOTAL & NOT SPECIFIED & COUNTY & 01 & 01 & AL & ALABAMA & 10 & NORTHERN VALLEY & 077 & 077 & LAUDERDALE & NA & NA & 00000000 & NA & NA & 9000 & UNITED STATES & ALABAMA, NORTHERN VALLEY, LAUDERDALE & 2017 & ANNUAL & 00 & 00 & YEAR & NA & 2018-02-01 & 15,885 & 25.7\\\\\n",
       "\t CENSUS & CROPS & FIELD CROPS & CORN & ALL CLASSES & ALL PRODUCTION PRACTICES & GRAIN & AREA HARVESTED & ACRES & CORN, GRAIN - ACRES HARVESTED & TOTAL & NOT SPECIFIED & COUNTY & 01 & 01 & AL & ALABAMA & 10 & NORTHERN VALLEY & 079 & 079 & LAWRENCE   & NA & NA & 00000000 & NA & NA & 9000 & UNITED STATES & ALABAMA, NORTHERN VALLEY, LAWRENCE   & 2017 & ANNUAL & 00 & 00 & YEAR & NA & 2018-02-01 & 22,925 & 25.7\\\\\n",
       "\t CENSUS & CROPS & FIELD CROPS & CORN & ALL CLASSES & ALL PRODUCTION PRACTICES & GRAIN & AREA HARVESTED & ACRES & CORN, GRAIN - ACRES HARVESTED & TOTAL & NOT SPECIFIED & COUNTY & 01 & 01 & AL & ALABAMA & 10 & NORTHERN VALLEY & 083 & 083 & LIMESTONE  & NA & NA & 00000000 & NA & NA & 9000 & UNITED STATES & ALABAMA, NORTHERN VALLEY, LIMESTONE  & 2017 & ANNUAL & 00 & 00 & YEAR & NA & 2018-02-01 & 16,886 & 25.7\\\\\n",
       "\t CENSUS & CROPS & FIELD CROPS & CORN & ALL CLASSES & ALL PRODUCTION PRACTICES & GRAIN & AREA HARVESTED & ACRES & CORN, GRAIN - ACRES HARVESTED & TOTAL & NOT SPECIFIED & COUNTY & 01 & 01 & AL & ALABAMA & 10 & NORTHERN VALLEY & 089 & 089 & MADISON    & NA & NA & 00000000 & NA & NA & 9000 & UNITED STATES & ALABAMA, NORTHERN VALLEY, MADISON    & 2017 & ANNUAL & 00 & 00 & YEAR & NA & 2018-02-01 & 25,499 & 25.7\\\\\n",
       "\\end{tabular}\n"
      ],
      "text/markdown": [
       "\n",
       "A tibble: 6 × 39\n",
       "\n",
       "| source_desc &lt;chr&gt; | sector_desc &lt;chr&gt; | group_desc &lt;chr&gt; | commodity_desc &lt;chr&gt; | class_desc &lt;chr&gt; | prodn_practice_desc &lt;chr&gt; | util_practice_desc &lt;chr&gt; | statisticcat_desc &lt;chr&gt; | unit_desc &lt;chr&gt; | short_desc &lt;chr&gt; | ⋯ ⋯ | location_desc &lt;chr&gt; | year &lt;dbl&gt; | freq_desc &lt;chr&gt; | begin_code &lt;chr&gt; | end_code &lt;chr&gt; | reference_period_desc &lt;chr&gt; | week_ending &lt;lgl&gt; | load_time &lt;dttm&gt; | Value &lt;chr&gt; | CV (%) &lt;chr&gt; |\n",
       "|---|---|---|---|---|---|---|---|---|---|---|---|---|---|---|---|---|---|---|---|---|\n",
       "| CENSUS | CROPS | FIELD CROPS | CORN | ALL CLASSES | ALL PRODUCTION PRACTICES | GRAIN | AREA HARVESTED | ACRES | CORN, GRAIN - ACRES HARVESTED | ⋯ | ALABAMA, NORTHERN VALLEY, COLBERT    | 2017 | ANNUAL | 00 | 00 | YEAR | NA | 2018-02-01 | 22,148 | 25.7 |\n",
       "| CENSUS | CROPS | FIELD CROPS | CORN | ALL CLASSES | ALL PRODUCTION PRACTICES | GRAIN | AREA HARVESTED | ACRES | CORN, GRAIN - ACRES HARVESTED | ⋯ | ALABAMA, NORTHERN VALLEY, FRANKLIN   | 2017 | ANNUAL | 00 | 00 | YEAR | NA | 2018-02-01 | 1,101  | 25.7 |\n",
       "| CENSUS | CROPS | FIELD CROPS | CORN | ALL CLASSES | ALL PRODUCTION PRACTICES | GRAIN | AREA HARVESTED | ACRES | CORN, GRAIN - ACRES HARVESTED | ⋯ | ALABAMA, NORTHERN VALLEY, LAUDERDALE | 2017 | ANNUAL | 00 | 00 | YEAR | NA | 2018-02-01 | 15,885 | 25.7 |\n",
       "| CENSUS | CROPS | FIELD CROPS | CORN | ALL CLASSES | ALL PRODUCTION PRACTICES | GRAIN | AREA HARVESTED | ACRES | CORN, GRAIN - ACRES HARVESTED | ⋯ | ALABAMA, NORTHERN VALLEY, LAWRENCE   | 2017 | ANNUAL | 00 | 00 | YEAR | NA | 2018-02-01 | 22,925 | 25.7 |\n",
       "| CENSUS | CROPS | FIELD CROPS | CORN | ALL CLASSES | ALL PRODUCTION PRACTICES | GRAIN | AREA HARVESTED | ACRES | CORN, GRAIN - ACRES HARVESTED | ⋯ | ALABAMA, NORTHERN VALLEY, LIMESTONE  | 2017 | ANNUAL | 00 | 00 | YEAR | NA | 2018-02-01 | 16,886 | 25.7 |\n",
       "| CENSUS | CROPS | FIELD CROPS | CORN | ALL CLASSES | ALL PRODUCTION PRACTICES | GRAIN | AREA HARVESTED | ACRES | CORN, GRAIN - ACRES HARVESTED | ⋯ | ALABAMA, NORTHERN VALLEY, MADISON    | 2017 | ANNUAL | 00 | 00 | YEAR | NA | 2018-02-01 | 25,499 | 25.7 |\n",
       "\n"
      ],
      "text/plain": [
       "  source_desc sector_desc group_desc  commodity_desc class_desc \n",
       "1 CENSUS      CROPS       FIELD CROPS CORN           ALL CLASSES\n",
       "2 CENSUS      CROPS       FIELD CROPS CORN           ALL CLASSES\n",
       "3 CENSUS      CROPS       FIELD CROPS CORN           ALL CLASSES\n",
       "4 CENSUS      CROPS       FIELD CROPS CORN           ALL CLASSES\n",
       "5 CENSUS      CROPS       FIELD CROPS CORN           ALL CLASSES\n",
       "6 CENSUS      CROPS       FIELD CROPS CORN           ALL CLASSES\n",
       "  prodn_practice_desc      util_practice_desc statisticcat_desc unit_desc\n",
       "1 ALL PRODUCTION PRACTICES GRAIN              AREA HARVESTED    ACRES    \n",
       "2 ALL PRODUCTION PRACTICES GRAIN              AREA HARVESTED    ACRES    \n",
       "3 ALL PRODUCTION PRACTICES GRAIN              AREA HARVESTED    ACRES    \n",
       "4 ALL PRODUCTION PRACTICES GRAIN              AREA HARVESTED    ACRES    \n",
       "5 ALL PRODUCTION PRACTICES GRAIN              AREA HARVESTED    ACRES    \n",
       "6 ALL PRODUCTION PRACTICES GRAIN              AREA HARVESTED    ACRES    \n",
       "  short_desc                    ⋯ location_desc                        year\n",
       "1 CORN, GRAIN - ACRES HARVESTED ⋯ ALABAMA, NORTHERN VALLEY, COLBERT    2017\n",
       "2 CORN, GRAIN - ACRES HARVESTED ⋯ ALABAMA, NORTHERN VALLEY, FRANKLIN   2017\n",
       "3 CORN, GRAIN - ACRES HARVESTED ⋯ ALABAMA, NORTHERN VALLEY, LAUDERDALE 2017\n",
       "4 CORN, GRAIN - ACRES HARVESTED ⋯ ALABAMA, NORTHERN VALLEY, LAWRENCE   2017\n",
       "5 CORN, GRAIN - ACRES HARVESTED ⋯ ALABAMA, NORTHERN VALLEY, LIMESTONE  2017\n",
       "6 CORN, GRAIN - ACRES HARVESTED ⋯ ALABAMA, NORTHERN VALLEY, MADISON    2017\n",
       "  freq_desc begin_code end_code reference_period_desc week_ending load_time \n",
       "1 ANNUAL    00         00       YEAR                  NA          2018-02-01\n",
       "2 ANNUAL    00         00       YEAR                  NA          2018-02-01\n",
       "3 ANNUAL    00         00       YEAR                  NA          2018-02-01\n",
       "4 ANNUAL    00         00       YEAR                  NA          2018-02-01\n",
       "5 ANNUAL    00         00       YEAR                  NA          2018-02-01\n",
       "6 ANNUAL    00         00       YEAR                  NA          2018-02-01\n",
       "  Value  CV (%)\n",
       "1 22,148 25.7  \n",
       "2 1,101  25.7  \n",
       "3 15,885 25.7  \n",
       "4 22,925 25.7  \n",
       "5 16,886 25.7  \n",
       "6 25,499 25.7  "
      ]
     },
     "metadata": {},
     "output_type": "display_data"
    }
   ],
   "source": [
    "dim(df_harvested)\n",
    "head(df_harvested)"
   ]
  },
  {
   "cell_type": "markdown",
   "metadata": {},
   "source": [
    "Download and extract the shapefile we need."
   ]
  },
  {
   "cell_type": "code",
   "execution_count": 95,
   "metadata": {},
   "outputs": [
    {
     "data": {
      "text/html": [
       "TRUE"
      ],
      "text/latex": [
       "TRUE"
      ],
      "text/markdown": [
       "TRUE"
      ],
      "text/plain": [
       "[1] TRUE"
      ]
     },
     "metadata": {},
     "output_type": "display_data"
    },
    {
     "data": {
      "text/html": [
       "TRUE"
      ],
      "text/latex": [
       "TRUE"
      ],
      "text/markdown": [
       "TRUE"
      ],
      "text/plain": [
       "[1] TRUE"
      ]
     },
     "metadata": {},
     "output_type": "display_data"
    }
   ],
   "source": [
    "if (!file.exists('shape')) {\n",
    "    dir.create('shape/')\n",
    "}\n",
    "download.file(\"https://www2.census.gov/geo/tiger/TIGER2017/COUNTY/tl_2017_us_county.zip\", \"shape/county_shape.zip\")\n",
    "unzip(\"shape/county_shape.zip\", exdir=\"shape/\")\n",
    "file.remove(\"shape/county_shape.zip\")\n",
    "\n",
    "download.file(\"https://www2.census.gov/geo/tiger/TIGER2017//STATE/tl_2017_us_state.zip\", \"shape/state_shape.zip\")\n",
    "unzip(\"shape/state_shape.zip\", exdir=\"shape/\")\n",
    "file.remove(\"shape/state_shape.zip\")"
   ]
  },
  {
   "cell_type": "code",
   "execution_count": 96,
   "metadata": {},
   "outputs": [
    {
     "name": "stdout",
     "output_type": "stream",
     "text": [
      "OGR data source with driver: ESRI Shapefile \n",
      "Source: \"/Users/aaronanderson/NWRC/quickerstats/notebooks/shape/tl_2017_us_county.shp\", layer: \"tl_2017_us_county\"\n",
      "with 3233 features\n",
      "It has 17 fields\n",
      "Integer64 fields read as strings:  ALAND AWATER \n",
      "OGR data source with driver: ESRI Shapefile \n",
      "Source: \"/Users/aaronanderson/NWRC/quickerstats/notebooks/shape/tl_2017_us_state.shp\", layer: \"tl_2017_us_state\"\n",
      "with 56 features\n",
      "It has 14 fields\n",
      "Integer64 fields read as strings:  ALAND AWATER \n"
     ]
    }
   ],
   "source": [
    "counties <- readOGR(dsn = \"shape/tl_2017_us_county.shp\",\n",
    "                    layer = \"tl_2017_us_county\")\n",
    "states <- readOGR(dsn = \"shape/tl_2017_us_state.shp\",\n",
    "                  layer = \"tl_2017_us_state\")"
   ]
  },
  {
   "cell_type": "code",
   "execution_count": 97,
   "metadata": {},
   "outputs": [],
   "source": [
    "counties_conterm <- counties[counties$STATEFP != \"02\" & counties$STATEFP != \"15\",]\n",
    "states_conterm <- states[states$STATEFP != \"02\" & states$STATEFP != \"15\",]"
   ]
  },
  {
   "cell_type": "code",
   "execution_count": 98,
   "metadata": {},
   "outputs": [],
   "source": [
    "conterm_proj4 <- \"+proj=aea +lat_1=29.5 +lat_2=45.5 +lon_0=97.2w\"\n",
    "counties_conterm_albers <- spTransform(counties_conterm, CRS(conterm_proj4))\n",
    "states_conterm_albers <- spTransform(states_conterm, CRS(conterm_proj4))"
   ]
  },
  {
   "cell_type": "code",
   "execution_count": 100,
   "metadata": {},
   "outputs": [
    {
     "ename": "ERROR",
     "evalue": "Error in plot.show(): could not find function \"plot.show\"\n",
     "output_type": "error",
     "traceback": [
      "Error in plot.show(): could not find function \"plot.show\"\nTraceback:\n"
     ]
    }
   ],
   "source": [
    "png(\"us-map.png\", width = 10.5, height = 5, units = \"in\", res = 300, bg = \"transparent\")\n",
    "\n",
    "# start layout\n",
    "par(mar=c(0,0,0,0))\n",
    "plot(0:1, 0:1, type=\"n\", xlab=\"\", ylab=\"\", axes=FALSE)\n",
    "\n",
    "# add the conterminous\n",
    "par(list(new=TRUE, plt=c(0, 1, 0, 1)))\n",
    "\n",
    "plot(counties_conterm_albers, col=\"#c8c8c8\", border=\"#c8c8c8\", lwd=0.1, asp=1)"
   ]
  },
  {
   "cell_type": "code",
   "execution_count": null,
   "metadata": {},
   "outputs": [],
   "source": []
  },
  {
   "cell_type": "code",
   "execution_count": null,
   "metadata": {},
   "outputs": [],
   "source": []
  },
  {
   "cell_type": "code",
   "execution_count": 89,
   "metadata": {},
   "outputs": [
    {
     "data": {
      "text/plain": [
       "Source: \"/Users/aaronanderson/NWRC/quickerstats/notebooks/shape/tl_2017_us_county.shp\", layer: \"tl_2017_us_county\"\n",
       "Driver: ESRI Shapefile; number of rows: 3233 \n",
       "Feature type: wkbPolygon with 2 dimensions\n",
       "Extent: (-179.2311 -14.60181) - (179.8597 71.43979)\n",
       "CRS: +proj=longlat +ellps=GRS80 +towgs84=0,0,0,0,0,0,0 +no_defs  \n",
       "LDID: 0 \n",
       "Number of fields: 17 \n",
       "       name type length  typeName\n",
       "1   STATEFP    4      2    String\n",
       "2  COUNTYFP    4      3    String\n",
       "3  COUNTYNS    4      8    String\n",
       "4     GEOID    4      5    String\n",
       "5      NAME    4    100    String\n",
       "6  NAMELSAD    4    100    String\n",
       "7      LSAD    4      2    String\n",
       "8   CLASSFP    4      2    String\n",
       "9     MTFCC    4      5    String\n",
       "10    CSAFP    4      3    String\n",
       "11   CBSAFP    4      5    String\n",
       "12 METDIVFP    4      5    String\n",
       "13 FUNCSTAT    4      1    String\n",
       "14    ALAND   12     14 Integer64\n",
       "15   AWATER   12     14 Integer64\n",
       "16 INTPTLAT    4     11    String\n",
       "17 INTPTLON    4     12    String"
      ]
     },
     "metadata": {},
     "output_type": "display_data"
    }
   ],
   "source": [
    "ogrInfo(dsn = \"shape/tl_2017_us_county.shp\")"
   ]
  },
  {
   "cell_type": "code",
   "execution_count": null,
   "metadata": {},
   "outputs": [],
   "source": []
  },
  {
   "cell_type": "code",
   "execution_count": null,
   "metadata": {},
   "outputs": [],
   "source": []
  },
  {
   "cell_type": "code",
   "execution_count": 79,
   "metadata": {},
   "outputs": [
    {
     "ename": "ERROR",
     "evalue": "Error in delete.file(\"shape/us_shape.zip\"): could not find function \"delete.file\"\n",
     "output_type": "error",
     "traceback": [
      "Error in delete.file(\"shape/us_shape.zip\"): could not find function \"delete.file\"\nTraceback:\n"
     ]
    }
   ],
   "source": [
    "library(maps)\n",
    "library(maptools)\n",
    "library(rgdal)\n",
    "\n",
    "\n",
    "# SET DIRECTORY ####\n",
    "path <- \"~/Desktop/r-example/\"\n",
    "\n",
    "# read in data \n",
    "states  <- readOGR(dsn = paste(path, \"census_bureau/cb_2013_us_state_20m\", sep = \"\"),\n",
    "                   layer = \"cb_2013_us_state_20m\")\n",
    "\n",
    "counties  <- readOGR(dsn = paste(path, \"census_bureau/cb_2013_us_county_20m\", sep = \"\"),\n",
    "                     layer = \"cb_2013_us_county_20m\")\n",
    "\n",
    "# conterminous sp\n",
    "counties_conterm <- counties[counties$STATEFP != \"02\" & counties$STATEFP != \"15\",]\n",
    "states_conterm <- states[states$STATEFP != \"02\" & states$STATEFP != \"15\",]\n",
    "\n",
    "conterm_proj4 <- \"+proj=aea +lat_1=29.5 +lat_2=45.5 +lon_0=97.2w\"\n",
    "counties_conterm_albers <- spTransform(counties_conterm, CRS(conterm_proj4))\n",
    "states_conterm_albers <- spTransform(states_conterm, CRS(conterm_proj4))\n",
    "\n",
    "\n",
    "# USA MAP ####\n",
    "png(paste(path, \"us-map.png\", sep=\"\"), width = 10.5, height = 5, units = \"in\", res = 300, bg = \"transparent\")\n",
    "\n",
    "# start layout\n",
    "par(mar=c(0,0,0,0))\n",
    "plot(0:1, 0:1, type=\"n\", xlab=\"\", ylab=\"\", axes=FALSE)\n",
    "\n",
    "# add the conterminous\n",
    "par(list(new=TRUE, plt=c(0, 1, 0, 1)))\n",
    "\n",
    "plot(counties_conterm_albers, col=\"#c8c8c8\", border=\"#c8c8c8\", lwd=0.1, asp=1)\n",
    "plot(states_conterm_albers, border=\"white\", lwd=0.6,  add=TRUE, asp=1)\n",
    "\n",
    "# add alaska\n",
    "par(list(new=TRUE, plt=c(.015, .285, .015, .260)))\n",
    "plot(counties_AL_albers, col=\"#c8c8c8\", border=\"#c8c8c8\", lwd=0.1, asp=1)\n",
    "\n",
    "# add hawaii\n",
    "par(list(new=TRUE, plt=c(.28, .38, .015, .16)))\n",
    "plot(counties_HI_albers,  col=\"#c8c8c8\", border=\"#c8c8c8\", lwd=0.1, asp=1)\n",
    "dev.off()"
   ]
  },
  {
   "cell_type": "code",
   "execution_count": null,
   "metadata": {},
   "outputs": [],
   "source": []
  }
 ],
 "metadata": {
  "kernelspec": {
   "display_name": "R",
   "language": "R",
   "name": "ir"
  },
  "language_info": {
   "codemirror_mode": "r",
   "file_extension": ".r",
   "mimetype": "text/x-r-source",
   "name": "R",
   "pygments_lexer": "r",
   "version": "3.6.1"
  }
 },
 "nbformat": 4,
 "nbformat_minor": 2
}
